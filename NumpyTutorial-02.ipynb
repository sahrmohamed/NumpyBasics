{
 "cells": [
  {
   "cell_type": "code",
   "execution_count": 1,
   "metadata": {},
   "outputs": [],
   "source": [
    "import numpy as np "
   ]
  },
  {
   "cell_type": "markdown",
   "metadata": {},
   "source": [
    "**Numpy array are fast and use less memory than list**"
   ]
  },
  {
   "cell_type": "code",
   "execution_count": 2,
   "metadata": {},
   "outputs": [],
   "source": [
    "import time \n",
    "import sys"
   ]
  },
  {
   "cell_type": "code",
   "execution_count": 3,
   "metadata": {},
   "outputs": [
    {
     "name": "stdout",
     "output_type": "stream",
     "text": [
      "28000'bytes' \n"
     ]
    }
   ],
   "source": [
    "# computing the size of list\n",
    "b = list(range(1000))\n",
    "print(f\"{sys.getsizeof(5) * len(b)}'bytes' \")"
   ]
  },
  {
   "cell_type": "code",
   "execution_count": 4,
   "metadata": {},
   "outputs": [
    {
     "name": "stdout",
     "output_type": "stream",
     "text": [
      "4000\n"
     ]
    }
   ],
   "source": [
    "# computing the size of an array\n",
    "c = np.arange(1000)\n",
    "print(f\"{c.nbytes}\") "
   ]
  },
  {
   "cell_type": "markdown",
   "metadata": {},
   "source": [
    " **Speed: List vs Numpy**"
   ]
  },
  {
   "cell_type": "code",
   "execution_count": 5,
   "metadata": {},
   "outputs": [],
   "source": [
    "size = 1000\n",
    "L1 = list(range(size))\n",
    "L2 = list(range(size))\n",
    "A1 = np.arange(size)\n",
    "A2 = np.arange(size)"
   ]
  },
  {
   "cell_type": "code",
   "execution_count": 6,
   "metadata": {},
   "outputs": [
    {
     "name": "stdout",
     "output_type": "stream",
     "text": [
      "[0]\n",
      "[2]\n",
      "[4]\n",
      "[6]\n",
      "[8]\n",
      "[10]\n",
      "[12]\n",
      "[14]\n",
      "[16]\n",
      "[18]\n",
      "[20]\n",
      "[22]\n",
      "[24]\n",
      "[26]\n",
      "[28]\n",
      "[30]\n",
      "[32]\n",
      "[34]\n",
      "[36]\n",
      "[38]\n",
      "[40]\n",
      "[42]\n",
      "[44]\n",
      "[46]\n",
      "[48]\n",
      "[50]\n",
      "[52]\n",
      "[54]\n",
      "[56]\n",
      "[58]\n",
      "[60]\n",
      "[62]\n",
      "[64]\n",
      "[66]\n",
      "[68]\n",
      "[70]\n",
      "[72]\n",
      "[74]\n",
      "[76]\n",
      "[78]\n",
      "[80]\n",
      "[82]\n",
      "[84]\n",
      "[86]\n",
      "[88]\n",
      "[90]\n",
      "[92]\n",
      "[94]\n",
      "[96]\n",
      "[98]\n",
      "[100]\n",
      "[102]\n",
      "[104]\n",
      "[106]\n",
      "[108]\n",
      "[110]\n",
      "[112]\n",
      "[114]\n",
      "[116]\n",
      "[118]\n",
      "[120]\n",
      "[122]\n",
      "[124]\n",
      "[126]\n",
      "[128]\n",
      "[130]\n",
      "[132]\n",
      "[134]\n",
      "[136]\n",
      "[138]\n",
      "[140]\n",
      "[142]\n",
      "[144]\n",
      "[146]\n",
      "[148]\n",
      "[150]\n",
      "[152]\n",
      "[154]\n",
      "[156]\n",
      "[158]\n",
      "[160]\n",
      "[162]\n",
      "[164]\n",
      "[166]\n",
      "[168]\n",
      "[170]\n",
      "[172]\n",
      "[174]\n",
      "[176]\n",
      "[178]\n",
      "[180]\n",
      "[182]\n",
      "[184]\n",
      "[186]\n",
      "[188]\n",
      "[190]\n",
      "[192]\n",
      "[194]\n",
      "[196]\n",
      "[198]\n",
      "[200]\n",
      "[202]\n",
      "[204]\n",
      "[206]\n",
      "[208]\n",
      "[210]\n",
      "[212]\n",
      "[214]\n",
      "[216]\n",
      "[218]\n",
      "[220]\n",
      "[222]\n",
      "[224]\n",
      "[226]\n",
      "[228]\n",
      "[230]\n",
      "[232]\n",
      "[234]\n",
      "[236]\n",
      "[238]\n",
      "[240]\n",
      "[242]\n",
      "[244]\n",
      "[246]\n",
      "[248]\n",
      "[250]\n",
      "[252]\n",
      "[254]\n",
      "[256]\n",
      "[258]\n",
      "[260]\n",
      "[262]\n",
      "[264]\n",
      "[266]\n",
      "[268]\n",
      "[270]\n",
      "[272]\n",
      "[274]\n",
      "[276]\n",
      "[278]\n",
      "[280]\n",
      "[282]\n",
      "[284]\n",
      "[286]\n",
      "[288]\n",
      "[290]\n",
      "[292]\n",
      "[294]\n",
      "[296]\n",
      "[298]\n",
      "[300]\n",
      "[302]\n",
      "[304]\n",
      "[306]\n",
      "[308]\n",
      "[310]\n",
      "[312]\n",
      "[314]\n",
      "[316]\n",
      "[318]\n",
      "[320]\n",
      "[322]\n",
      "[324]\n",
      "[326]\n",
      "[328]\n",
      "[330]\n",
      "[332]\n",
      "[334]\n",
      "[336]\n",
      "[338]\n",
      "[340]\n",
      "[342]\n",
      "[344]\n",
      "[346]\n",
      "[348]\n",
      "[350]\n",
      "[352]\n",
      "[354]\n",
      "[356]\n",
      "[358]\n",
      "[360]\n",
      "[362]\n",
      "[364]\n",
      "[366]\n",
      "[368]\n",
      "[370]\n",
      "[372]\n",
      "[374]\n",
      "[376]\n",
      "[378]\n",
      "[380]\n",
      "[382]\n",
      "[384]\n",
      "[386]\n",
      "[388]\n",
      "[390]\n",
      "[392]\n",
      "[394]\n",
      "[396]\n",
      "[398]\n",
      "[400]\n",
      "[402]\n",
      "[404]\n",
      "[406]\n",
      "[408]\n",
      "[410]\n",
      "[412]\n",
      "[414]\n",
      "[416]\n",
      "[418]\n",
      "[420]\n",
      "[422]\n",
      "[424]\n",
      "[426]\n",
      "[428]\n",
      "[430]\n",
      "[432]\n",
      "[434]\n",
      "[436]\n",
      "[438]\n",
      "[440]\n",
      "[442]\n",
      "[444]\n",
      "[446]\n",
      "[448]\n",
      "[450]\n",
      "[452]\n",
      "[454]\n",
      "[456]\n",
      "[458]\n",
      "[460]\n",
      "[462]\n",
      "[464]\n",
      "[466]\n",
      "[468]\n",
      "[470]\n",
      "[472]\n",
      "[474]\n",
      "[476]\n",
      "[478]\n",
      "[480]\n",
      "[482]\n",
      "[484]\n",
      "[486]\n",
      "[488]\n",
      "[490]\n",
      "[492]\n",
      "[494]\n",
      "[496]\n",
      "[498]\n",
      "[500]\n",
      "[502]\n",
      "[504]\n",
      "[506]\n",
      "[508]\n",
      "[510]\n",
      "[512]\n",
      "[514]\n",
      "[516]\n",
      "[518]\n",
      "[520]\n",
      "[522]\n",
      "[524]\n",
      "[526]\n",
      "[528]\n",
      "[530]\n",
      "[532]\n",
      "[534]\n",
      "[536]\n",
      "[538]\n",
      "[540]\n",
      "[542]\n",
      "[544]\n",
      "[546]\n",
      "[548]\n",
      "[550]\n",
      "[552]\n",
      "[554]\n",
      "[556]\n",
      "[558]\n",
      "[560]\n",
      "[562]\n",
      "[564]\n",
      "[566]\n",
      "[568]\n",
      "[570]\n",
      "[572]\n",
      "[574]\n",
      "[576]\n",
      "[578]\n",
      "[580]\n",
      "[582]\n",
      "[584]\n",
      "[586]\n",
      "[588]\n",
      "[590]\n",
      "[592]\n",
      "[594]\n",
      "[596]\n",
      "[598]\n",
      "[600]\n",
      "[602]\n",
      "[604]\n",
      "[606]\n",
      "[608]\n",
      "[610]\n",
      "[612]\n",
      "[614]\n",
      "[616]\n",
      "[618]\n",
      "[620]\n",
      "[622]\n",
      "[624]\n",
      "[626]\n",
      "[628]\n",
      "[630]\n",
      "[632]\n",
      "[634]\n",
      "[636]\n",
      "[638]\n",
      "[640]\n",
      "[642]\n",
      "[644]\n",
      "[646]\n",
      "[648]\n",
      "[650]\n",
      "[652]\n",
      "[654]\n",
      "[656]\n",
      "[658]\n",
      "[660]\n",
      "[662]\n",
      "[664]\n",
      "[666]\n",
      "[668]\n",
      "[670]\n",
      "[672]\n",
      "[674]\n",
      "[676]\n",
      "[678]\n",
      "[680]\n",
      "[682]\n",
      "[684]\n",
      "[686]\n",
      "[688]\n",
      "[690]\n",
      "[692]\n",
      "[694]\n",
      "[696]\n",
      "[698]\n",
      "[700]\n",
      "[702]\n",
      "[704]\n",
      "[706]\n",
      "[708]\n",
      "[710]\n",
      "[712]\n",
      "[714]\n",
      "[716]\n",
      "[718]\n",
      "[720]\n",
      "[722]\n",
      "[724]\n",
      "[726]\n",
      "[728]\n",
      "[730]\n",
      "[732]\n",
      "[734]\n",
      "[736]\n",
      "[738]\n",
      "[740]\n",
      "[742]\n",
      "[744]\n",
      "[746]\n",
      "[748]\n",
      "[750]\n",
      "[752]\n",
      "[754]\n",
      "[756]\n",
      "[758]\n",
      "[760]\n",
      "[762]\n",
      "[764]\n",
      "[766]\n",
      "[768]\n",
      "[770]\n",
      "[772]\n",
      "[774]\n",
      "[776]\n",
      "[778]\n",
      "[780]\n",
      "[782]\n",
      "[784]\n",
      "[786]\n",
      "[788]\n",
      "[790]\n",
      "[792]\n",
      "[794]\n",
      "[796]\n",
      "[798]\n",
      "[800]\n",
      "[802]\n",
      "[804]\n",
      "[806]\n",
      "[808]\n",
      "[810]\n",
      "[812]\n",
      "[814]\n",
      "[816]\n",
      "[818]\n",
      "[820]\n",
      "[822]\n",
      "[824]\n",
      "[826]\n",
      "[828]\n",
      "[830]\n",
      "[832]\n",
      "[834]\n",
      "[836]\n",
      "[838]\n",
      "[840]\n",
      "[842]\n",
      "[844]\n",
      "[846]\n",
      "[848]\n",
      "[850]\n",
      "[852]\n",
      "[854]\n",
      "[856]\n",
      "[858]\n",
      "[860]\n",
      "[862]\n",
      "[864]\n",
      "[866]\n",
      "[868]\n",
      "[870]\n",
      "[872]\n",
      "[874]\n",
      "[876]\n",
      "[878]\n",
      "[880]\n",
      "[882]\n",
      "[884]\n",
      "[886]\n",
      "[888]\n",
      "[890]\n",
      "[892]\n",
      "[894]\n",
      "[896]\n",
      "[898]\n",
      "[900]\n",
      "[902]\n",
      "[904]\n",
      "[906]\n",
      "[908]\n",
      "[910]\n",
      "[912]\n",
      "[914]\n",
      "[916]\n",
      "[918]\n",
      "[920]\n",
      "[922]\n",
      "[924]\n",
      "[926]\n",
      "[928]\n",
      "[930]\n",
      "[932]\n",
      "[934]\n",
      "[936]\n",
      "[938]\n",
      "[940]\n",
      "[942]\n",
      "[944]\n",
      "[946]\n",
      "[948]\n",
      "[950]\n",
      "[952]\n",
      "[954]\n",
      "[956]\n",
      "[958]\n",
      "[960]\n",
      "[962]\n",
      "[964]\n",
      "[966]\n",
      "[968]\n",
      "[970]\n",
      "[972]\n",
      "[974]\n",
      "[976]\n",
      "[978]\n",
      "[980]\n",
      "[982]\n",
      "[984]\n",
      "[986]\n",
      "[988]\n",
      "[990]\n",
      "[992]\n",
      "[994]\n",
      "[996]\n",
      "[998]\n",
      "[1000]\n",
      "[1002]\n",
      "[1004]\n",
      "[1006]\n",
      "[1008]\n",
      "[1010]\n",
      "[1012]\n",
      "[1014]\n",
      "[1016]\n",
      "[1018]\n",
      "[1020]\n",
      "[1022]\n",
      "[1024]\n",
      "[1026]\n",
      "[1028]\n",
      "[1030]\n",
      "[1032]\n",
      "[1034]\n",
      "[1036]\n",
      "[1038]\n",
      "[1040]\n",
      "[1042]\n",
      "[1044]\n",
      "[1046]\n",
      "[1048]\n",
      "[1050]\n",
      "[1052]\n",
      "[1054]\n",
      "[1056]\n",
      "[1058]\n",
      "[1060]\n",
      "[1062]\n",
      "[1064]\n",
      "[1066]\n",
      "[1068]\n",
      "[1070]\n",
      "[1072]\n",
      "[1074]\n",
      "[1076]\n",
      "[1078]\n",
      "[1080]\n",
      "[1082]\n",
      "[1084]\n",
      "[1086]\n",
      "[1088]\n",
      "[1090]\n",
      "[1092]\n",
      "[1094]\n",
      "[1096]\n",
      "[1098]\n",
      "[1100]\n",
      "[1102]\n",
      "[1104]\n",
      "[1106]\n",
      "[1108]\n",
      "[1110]\n",
      "[1112]\n",
      "[1114]\n",
      "[1116]\n",
      "[1118]\n",
      "[1120]\n",
      "[1122]\n",
      "[1124]\n",
      "[1126]\n",
      "[1128]\n",
      "[1130]\n",
      "[1132]\n",
      "[1134]\n",
      "[1136]\n",
      "[1138]\n",
      "[1140]\n",
      "[1142]\n",
      "[1144]\n",
      "[1146]\n",
      "[1148]\n",
      "[1150]\n",
      "[1152]\n",
      "[1154]\n",
      "[1156]\n",
      "[1158]\n",
      "[1160]\n",
      "[1162]\n",
      "[1164]\n",
      "[1166]\n",
      "[1168]\n",
      "[1170]\n",
      "[1172]\n",
      "[1174]\n",
      "[1176]\n",
      "[1178]\n",
      "[1180]\n",
      "[1182]\n",
      "[1184]\n",
      "[1186]\n",
      "[1188]\n",
      "[1190]\n",
      "[1192]\n",
      "[1194]\n",
      "[1196]\n",
      "[1198]\n",
      "[1200]\n",
      "[1202]\n",
      "[1204]\n",
      "[1206]\n",
      "[1208]\n",
      "[1210]\n",
      "[1212]\n",
      "[1214]\n",
      "[1216]\n",
      "[1218]\n",
      "[1220]\n",
      "[1222]\n",
      "[1224]\n",
      "[1226]\n",
      "[1228]\n",
      "[1230]\n",
      "[1232]\n",
      "[1234]\n",
      "[1236]\n",
      "[1238]\n",
      "[1240]\n",
      "[1242]\n",
      "[1244]\n",
      "[1246]\n",
      "[1248]\n",
      "[1250]\n",
      "[1252]\n",
      "[1254]\n",
      "[1256]\n",
      "[1258]\n",
      "[1260]\n",
      "[1262]\n",
      "[1264]\n",
      "[1266]\n",
      "[1268]\n",
      "[1270]\n",
      "[1272]\n",
      "[1274]\n",
      "[1276]\n",
      "[1278]\n",
      "[1280]\n",
      "[1282]\n",
      "[1284]\n",
      "[1286]\n",
      "[1288]\n",
      "[1290]\n",
      "[1292]\n",
      "[1294]\n",
      "[1296]\n",
      "[1298]\n",
      "[1300]\n",
      "[1302]\n",
      "[1304]\n",
      "[1306]\n",
      "[1308]\n",
      "[1310]\n",
      "[1312]\n",
      "[1314]\n",
      "[1316]\n",
      "[1318]\n",
      "[1320]\n",
      "[1322]\n",
      "[1324]\n",
      "[1326]\n",
      "[1328]\n",
      "[1330]\n",
      "[1332]\n",
      "[1334]\n",
      "[1336]\n",
      "[1338]\n",
      "[1340]\n",
      "[1342]\n",
      "[1344]\n",
      "[1346]\n",
      "[1348]\n",
      "[1350]\n",
      "[1352]\n",
      "[1354]\n",
      "[1356]\n",
      "[1358]\n",
      "[1360]\n",
      "[1362]\n",
      "[1364]\n",
      "[1366]\n",
      "[1368]\n",
      "[1370]\n",
      "[1372]\n",
      "[1374]\n",
      "[1376]\n",
      "[1378]\n",
      "[1380]\n",
      "[1382]\n",
      "[1384]\n",
      "[1386]\n",
      "[1388]\n",
      "[1390]\n",
      "[1392]\n",
      "[1394]\n",
      "[1396]\n",
      "[1398]\n",
      "[1400]\n",
      "[1402]\n",
      "[1404]\n",
      "[1406]\n",
      "[1408]\n",
      "[1410]\n",
      "[1412]\n",
      "[1414]\n",
      "[1416]\n",
      "[1418]\n",
      "[1420]\n",
      "[1422]\n",
      "[1424]\n",
      "[1426]\n",
      "[1428]\n",
      "[1430]\n",
      "[1432]\n",
      "[1434]\n",
      "[1436]\n",
      "[1438]\n",
      "[1440]\n",
      "[1442]\n",
      "[1444]\n",
      "[1446]\n",
      "[1448]\n",
      "[1450]\n",
      "[1452]\n",
      "[1454]\n",
      "[1456]\n",
      "[1458]\n",
      "[1460]\n",
      "[1462]\n",
      "[1464]\n",
      "[1466]\n",
      "[1468]\n",
      "[1470]\n",
      "[1472]\n",
      "[1474]\n",
      "[1476]\n",
      "[1478]\n",
      "[1480]\n",
      "[1482]\n",
      "[1484]\n",
      "[1486]\n",
      "[1488]\n",
      "[1490]\n",
      "[1492]\n",
      "[1494]\n",
      "[1496]\n",
      "[1498]\n",
      "[1500]\n",
      "[1502]\n",
      "[1504]\n",
      "[1506]\n",
      "[1508]\n",
      "[1510]\n",
      "[1512]\n",
      "[1514]\n",
      "[1516]\n",
      "[1518]\n",
      "[1520]\n",
      "[1522]\n",
      "[1524]\n",
      "[1526]\n",
      "[1528]\n",
      "[1530]\n",
      "[1532]\n",
      "[1534]\n",
      "[1536]\n",
      "[1538]\n",
      "[1540]\n",
      "[1542]\n",
      "[1544]\n",
      "[1546]\n",
      "[1548]\n",
      "[1550]\n",
      "[1552]\n",
      "[1554]\n",
      "[1556]\n",
      "[1558]\n",
      "[1560]\n",
      "[1562]\n",
      "[1564]\n",
      "[1566]\n",
      "[1568]\n",
      "[1570]\n",
      "[1572]\n",
      "[1574]\n",
      "[1576]\n",
      "[1578]\n",
      "[1580]\n",
      "[1582]\n",
      "[1584]\n",
      "[1586]\n",
      "[1588]\n",
      "[1590]\n",
      "[1592]\n",
      "[1594]\n",
      "[1596]\n",
      "[1598]\n",
      "[1600]\n",
      "[1602]\n",
      "[1604]\n",
      "[1606]\n",
      "[1608]\n",
      "[1610]\n",
      "[1612]\n",
      "[1614]\n",
      "[1616]\n",
      "[1618]\n",
      "[1620]\n",
      "[1622]\n",
      "[1624]\n",
      "[1626]\n",
      "[1628]\n",
      "[1630]\n",
      "[1632]\n",
      "[1634]\n",
      "[1636]\n",
      "[1638]\n",
      "[1640]\n",
      "[1642]\n",
      "[1644]\n",
      "[1646]\n",
      "[1648]\n",
      "[1650]\n",
      "[1652]\n",
      "[1654]\n",
      "[1656]\n",
      "[1658]\n",
      "[1660]\n",
      "[1662]\n",
      "[1664]\n",
      "[1666]\n",
      "[1668]\n",
      "[1670]\n",
      "[1672]\n",
      "[1674]\n",
      "[1676]\n",
      "[1678]\n",
      "[1680]\n",
      "[1682]\n",
      "[1684]\n",
      "[1686]\n",
      "[1688]\n",
      "[1690]\n",
      "[1692]\n",
      "[1694]\n",
      "[1696]\n",
      "[1698]\n",
      "[1700]\n",
      "[1702]\n",
      "[1704]\n",
      "[1706]\n",
      "[1708]\n",
      "[1710]\n",
      "[1712]\n",
      "[1714]\n",
      "[1716]\n",
      "[1718]\n",
      "[1720]\n",
      "[1722]\n",
      "[1724]\n",
      "[1726]\n",
      "[1728]\n",
      "[1730]\n",
      "[1732]\n",
      "[1734]\n",
      "[1736]\n",
      "[1738]\n",
      "[1740]\n",
      "[1742]\n",
      "[1744]\n",
      "[1746]\n",
      "[1748]\n",
      "[1750]\n",
      "[1752]\n",
      "[1754]\n",
      "[1756]\n",
      "[1758]\n",
      "[1760]\n",
      "[1762]\n",
      "[1764]\n",
      "[1766]\n",
      "[1768]\n",
      "[1770]\n",
      "[1772]\n",
      "[1774]\n",
      "[1776]\n",
      "[1778]\n",
      "[1780]\n",
      "[1782]\n",
      "[1784]\n",
      "[1786]\n",
      "[1788]\n",
      "[1790]\n",
      "[1792]\n",
      "[1794]\n",
      "[1796]\n",
      "[1798]\n",
      "[1800]\n",
      "[1802]\n",
      "[1804]\n",
      "[1806]\n",
      "[1808]\n",
      "[1810]\n",
      "[1812]\n",
      "[1814]\n",
      "[1816]\n",
      "[1818]\n",
      "[1820]\n",
      "[1822]\n",
      "[1824]\n",
      "[1826]\n",
      "[1828]\n",
      "[1830]\n",
      "[1832]\n",
      "[1834]\n",
      "[1836]\n",
      "[1838]\n",
      "[1840]\n",
      "[1842]\n",
      "[1844]\n",
      "[1846]\n",
      "[1848]\n",
      "[1850]\n",
      "[1852]\n",
      "[1854]\n",
      "[1856]\n",
      "[1858]\n",
      "[1860]\n",
      "[1862]\n",
      "[1864]\n",
      "[1866]\n",
      "[1868]\n",
      "[1870]\n",
      "[1872]\n",
      "[1874]\n",
      "[1876]\n",
      "[1878]\n",
      "[1880]\n",
      "[1882]\n",
      "[1884]\n",
      "[1886]\n",
      "[1888]\n",
      "[1890]\n",
      "[1892]\n",
      "[1894]\n",
      "[1896]\n",
      "[1898]\n",
      "[1900]\n",
      "[1902]\n",
      "[1904]\n",
      "[1906]\n",
      "[1908]\n",
      "[1910]\n",
      "[1912]\n",
      "[1914]\n",
      "[1916]\n",
      "[1918]\n",
      "[1920]\n",
      "[1922]\n",
      "[1924]\n",
      "[1926]\n",
      "[1928]\n",
      "[1930]\n",
      "[1932]\n",
      "[1934]\n",
      "[1936]\n",
      "[1938]\n",
      "[1940]\n",
      "[1942]\n",
      "[1944]\n",
      "[1946]\n",
      "[1948]\n",
      "[1950]\n",
      "[1952]\n",
      "[1954]\n",
      "[1956]\n",
      "[1958]\n",
      "[1960]\n",
      "[1962]\n",
      "[1964]\n",
      "[1966]\n",
      "[1968]\n",
      "[1970]\n",
      "[1972]\n",
      "[1974]\n",
      "[1976]\n",
      "[1978]\n",
      "[1980]\n",
      "[1982]\n",
      "[1984]\n",
      "[1986]\n",
      "[1988]\n",
      "[1990]\n",
      "[1992]\n",
      "[1994]\n",
      "[1996]\n",
      "[1998]\n",
      "Python list took: 5.997419357299805\n"
     ]
    }
   ],
   "source": [
    "start = time.time()\n",
    "# result = [(x + y) for x,y in zip(L1, L2)]\n",
    "# print(result)\n",
    "for x,y in zip(L1, L2):\n",
    "    result = ([x+y])\n",
    "    print(result)\n",
    "\n",
    "print(\"Python list took:\", (time.time()-start)* 1000)"
   ]
  },
  {
   "cell_type": "code",
   "execution_count": 7,
   "metadata": {},
   "outputs": [
    {
     "name": "stdout",
     "output_type": "stream",
     "text": [
      "numpy array took: 0.0\n"
     ]
    }
   ],
   "source": [
    "start = time.time()\n",
    "result = A1 + A2\n",
    "print(\"numpy array took:\", (time.time()-start) * 1000)"
   ]
  },
  {
   "cell_type": "markdown",
   "metadata": {},
   "source": [
    "**Numpy Character Methods**"
   ]
  },
  {
   "cell_type": "code",
   "execution_count": 8,
   "metadata": {},
   "outputs": [
    {
     "name": "stdout",
     "output_type": "stream",
     "text": [
      "['ab' 'cd']\n",
      "['helloabc' 'hixyz']\n",
      "hellohellohello\n",
      "-------hello--------\n",
      "Hello world\n",
      "What Is Data Science?\n",
      "['are you okay']\n",
      "ARE YOU OKAY\n",
      "['Are', 'You', 'Coming', 'to', 'the', 'party?']\n",
      "['are you coming', 'to the party?']\n",
      "['hell' 'moss']\n",
      "['d:m:y' 'y-m-d']\n",
      "['he was a good dancer']\n"
     ]
    }
   ],
   "source": [
    "print(np.array(['ab', 'cd']))\n",
    "print(np.char.add(['hello', 'hi'], ['abc', 'xyz']))\n",
    "print(np.char.multiply('hello', 3))\n",
    "print(np.char.center('hello', 20, fillchar ='-'))       #fill in a character n times with 'hello' at the center\n",
    "print(np.char.capitalize('hello world'))\n",
    "print(np.char.title('what is data science?'))\n",
    "print(np.char.lower(['ARE YOU OKAY']))\n",
    "print(np.char.upper('are you okay'))\n",
    "print(np.char.split('Are You Coming to the party?'))\n",
    "print(np.char.splitlines(\"are you coming\\nto the party?\"))\n",
    "print(np.char.strip(['hello', 'moss'], 'o'))             #removes leading and ending 'o' characters\n",
    "print(np.char.join([\":\", \"-\"], [\"dmy\", \"ymd\"]))          # join characters together\n",
    "print(np.char.replace(['he is a good dancer'], 'is', 'was', count=1))"
   ]
  },
  {
   "cell_type": "markdown",
   "metadata": {},
   "source": [
    "**Array Reshaping**"
   ]
  },
  {
   "cell_type": "code",
   "execution_count": 9,
   "metadata": {
    "scrolled": false
   },
   "outputs": [
    {
     "name": "stdout",
     "output_type": "stream",
     "text": [
      "[0 1 2 3 4 5 6 7 8]\n",
      "[[0 1 2]\n",
      " [3 4 5]\n",
      " [6 7 8]]\n"
     ]
    }
   ],
   "source": [
    "naray = np.arange(9)\n",
    "print(naray)\n",
    "\n",
    "an_array  = naray.reshape(3,3)\n",
    "print(an_array)"
   ]
  },
  {
   "cell_type": "code",
   "execution_count": 10,
   "metadata": {},
   "outputs": [
    {
     "name": "stdout",
     "output_type": "stream",
     "text": [
      "[0 3 6 1 4 7 2 5 8]\n"
     ]
    },
    {
     "data": {
      "text/plain": [
       "array([[ 0,  1,  2],\n",
       "       [ 3,  4,  5],\n",
       "       [ 6,  7,  8],\n",
       "       [ 9, 10, 11]])"
      ]
     },
     "execution_count": 10,
     "metadata": {},
     "output_type": "execute_result"
    }
   ],
   "source": [
    "print(an_array.flatten(order=\"f\")) # flatten array into one dimension via the 'fortran order'\n",
    "a = np.arange(12).reshape(4, 3)\n",
    "a"
   ]
  },
  {
   "cell_type": "code",
   "execution_count": 11,
   "metadata": {
    "scrolled": false
   },
   "outputs": [
    {
     "name": "stdout",
     "output_type": "stream",
     "text": [
      "[[ 0  3  6  9]\n",
      " [ 1  4  7 10]\n",
      " [ 2  5  8 11]]\n",
      "[[ 0  3  6  9]\n",
      " [ 1  4  7 10]\n",
      " [ 2  5  8 11]]\n",
      "[[ 0  3  6  9]\n",
      " [ 1  4  7 10]\n",
      " [ 2  5  8 11]]\n",
      "[[ 0  3  6  9]\n",
      " [ 1  4  7 10]\n",
      " [ 2  5  8 11]]\n"
     ]
    }
   ],
   "source": [
    "print(np.transpose(a)) # it rearrange the order of the element\n",
    "print(np.rollaxis(a, 1,0))\n",
    "print(np.moveaxis(a, 1,0))\n",
    "print(np.swapaxes(a, 1,0))"
   ]
  },
  {
   "cell_type": "markdown",
   "metadata": {},
   "source": [
    "**Arithmetic Operations**"
   ]
  },
  {
   "cell_type": "code",
   "execution_count": 12,
   "metadata": {},
   "outputs": [
    {
     "name": "stdout",
     "output_type": "stream",
     "text": [
      "[[0 1 2]\n",
      " [3 4 5]\n",
      " [6 7 8]]\n",
      "[10 10 10]\n"
     ]
    }
   ],
   "source": [
    "b = np.array([10,10,10])\n",
    "a = np.arange(9).reshape(3,3)\n",
    "print(a)\n",
    "print(b)"
   ]
  },
  {
   "cell_type": "code",
   "execution_count": 13,
   "metadata": {},
   "outputs": [
    {
     "name": "stdout",
     "output_type": "stream",
     "text": [
      "[[10 11 12]\n",
      " [13 14 15]\n",
      " [16 17 18]]\n",
      "[[-10  -9  -8]\n",
      " [ -7  -6  -5]\n",
      " [ -4  -3  -2]]\n",
      "[[ 0 10 20]\n",
      " [30 40 50]\n",
      " [60 70 80]]\n",
      "[[0.  0.1 0.2]\n",
      " [0.3 0.4 0.5]\n",
      " [0.6 0.7 0.8]]\n"
     ]
    }
   ],
   "source": [
    "print(np.add(a,b))\n",
    "print(np.subtract(a, b))\n",
    "print(np.multiply(a,b))\n",
    "print(np.divide(a,b))"
   ]
  },
  {
   "cell_type": "markdown",
   "metadata": {},
   "source": [
    "**Array Slicing**"
   ]
  },
  {
   "cell_type": "code",
   "execution_count": 14,
   "metadata": {},
   "outputs": [
    {
     "name": "stdout",
     "output_type": "stream",
     "text": [
      "[[ 0  5 10]\n",
      " [15 20 25]\n",
      " [30 35 40]]\n",
      "40\n",
      "[ 0 20 40]\n",
      "[10 20 30]\n"
     ]
    }
   ],
   "source": [
    "x = np.arange(0,45,5).reshape(3,3)\n",
    "print(x)\n",
    "print(x[2,2])  # this gets the element 40\n",
    "\n",
    "# this gets the diagonal elements\n",
    "print(x[[0,1,2],[0,1,2]])\n",
    "print(x[[0,1,2],[2,1,0]])"
   ]
  },
  {
   "cell_type": "markdown",
   "metadata": {},
   "source": [
    "**3D Array Slicing**"
   ]
  },
  {
   "cell_type": "code",
   "execution_count": 15,
   "metadata": {},
   "outputs": [
    {
     "name": "stdout",
     "output_type": "stream",
     "text": [
      "[[[ 0  5]\n",
      "  [10 15]]\n",
      "\n",
      " [[20 25]\n",
      "  [30 35]]]\n"
     ]
    }
   ],
   "source": [
    "y = np.arange(0,40,5).reshape(2,2,2)\n",
    "print(y)"
   ]
  },
  {
   "cell_type": "code",
   "execution_count": 16,
   "metadata": {},
   "outputs": [
    {
     "name": "stdout",
     "output_type": "stream",
     "text": [
      "[20 35]\n"
     ]
    }
   ],
   "source": [
    "print(y[[1,1],[0,1],[0,1]])"
   ]
  },
  {
   "cell_type": "code",
   "execution_count": 17,
   "metadata": {},
   "outputs": [
    {
     "data": {
      "text/plain": [
       "numpy.ndarray"
      ]
     },
     "execution_count": 17,
     "metadata": {},
     "output_type": "execute_result"
    }
   ],
   "source": [
    "d = y[[1],[0],[0]]\n",
    "type(d)"
   ]
  },
  {
   "cell_type": "code",
   "execution_count": 18,
   "metadata": {},
   "outputs": [
    {
     "data": {
      "text/plain": [
       "numpy.int32"
      ]
     },
     "execution_count": 18,
     "metadata": {},
     "output_type": "execute_result"
    }
   ],
   "source": [
    "b = y[1,1,1]\n",
    "type(b)"
   ]
  },
  {
   "cell_type": "code",
   "execution_count": 19,
   "metadata": {},
   "outputs": [
    {
     "data": {
      "text/plain": [
       "array([[30, 35],\n",
       "       [10, 15],\n",
       "       [10, 15]])"
      ]
     },
     "execution_count": 19,
     "metadata": {},
     "output_type": "execute_result"
    }
   ],
   "source": [
    "y[[1,0,0],[1,1,1]]"
   ]
  },
  {
   "cell_type": "markdown",
   "metadata": {},
   "source": [
    "**Iterating Over An Array**"
   ]
  },
  {
   "cell_type": "code",
   "execution_count": 20,
   "metadata": {},
   "outputs": [
    {
     "name": "stdout",
     "output_type": "stream",
     "text": [
      "0\n",
      "5\n",
      "10\n",
      "15\n",
      "20\n",
      "25\n",
      "30\n",
      "35\n",
      "40\n"
     ]
    }
   ],
   "source": [
    "a = np.arange(0, 45, 5).reshape(3,3)\n",
    "for x in np.nditer(a):\n",
    "    print(x)"
   ]
  },
  {
   "cell_type": "markdown",
   "metadata": {},
   "source": [
    "**Iteration order (c-style and f-style)**"
   ]
  },
  {
   "cell_type": "code",
   "execution_count": 21,
   "metadata": {},
   "outputs": [
    {
     "name": "stdout",
     "output_type": "stream",
     "text": [
      "0\n",
      "5\n",
      "10\n",
      "15\n",
      "20\n",
      "25\n",
      "30\n",
      "35\n",
      "40\n",
      "0\n",
      "15\n",
      "30\n",
      "5\n",
      "20\n",
      "35\n",
      "10\n",
      "25\n",
      "40\n"
     ]
    }
   ],
   "source": [
    "for x in np.nditer(a, order=\"C\"):\n",
    "    print(x)\n",
    "\n",
    "for x in np.nditer(a, order=\"F\"):\n",
    "    print(x)"
   ]
  },
  {
   "cell_type": "markdown",
   "metadata": {},
   "source": [
    "**Joining Arrays**"
   ]
  },
  {
   "cell_type": "code",
   "execution_count": 22,
   "metadata": {},
   "outputs": [
    {
     "name": "stdout",
     "output_type": "stream",
     "text": [
      "first array\n",
      "[[1 2]\n",
      " [3 4]]\n",
      "second array\n",
      "[[5 6]\n",
      " [7 8]]\n",
      "\n",
      "\n",
      "Joining the two arrays along axis 0:\n",
      "[[1 2]\n",
      " [3 4]\n",
      " [5 6]\n",
      " [7 8]]\n",
      "\n",
      "\n",
      "Joining the two arrays along axis 1:\n",
      "[[1 2 5 6]\n",
      " [3 4 7 8]]\n"
     ]
    }
   ],
   "source": [
    "a = np.array([[1, 2],[3, 4]])\n",
    "print(\"first array\")\n",
    "print(a)\n",
    "b = np.array([[5, 6], [7, 8]])\n",
    "print('second array')\n",
    "print(b)\n",
    "print('\\n')\n",
    "print('Joining the two arrays along axis 0:')\n",
    "print(np.concatenate((a, b)))\n",
    "print('\\n')\n",
    "print('Joining the two arrays along axis 1:')\n",
    "print(np.concatenate((a, b), axis=1))"
   ]
  },
  {
   "cell_type": "markdown",
   "metadata": {},
   "source": [
    "**Splitting Arrays**"
   ]
  },
  {
   "cell_type": "code",
   "execution_count": 23,
   "metadata": {},
   "outputs": [
    {
     "name": "stdout",
     "output_type": "stream",
     "text": [
      "[0 1 2 3 4 5 6 7 8]\n"
     ]
    },
    {
     "data": {
      "text/plain": [
       "[array([0, 1, 2]), array([3, 4, 5]), array([6, 7, 8])]"
      ]
     },
     "execution_count": 23,
     "metadata": {},
     "output_type": "execute_result"
    }
   ],
   "source": [
    "a = np.arange(9)\n",
    "print(a)\n",
    "np.split(a, [3]) # splitting the array at index 3\n",
    "np.split(a, 3)   # splitting the array into 3"
   ]
  },
  {
   "cell_type": "code",
   "execution_count": 24,
   "metadata": {},
   "outputs": [
    {
     "name": "stdout",
     "output_type": "stream",
     "text": [
      "[array([0, 1, 2, 3]), array([4]), array([5, 6, 7, 8])]\n",
      "[array([0, 1, 2, 3]), array([4, 5, 6]), array([7, 8])]\n"
     ]
    }
   ],
   "source": [
    "print(np.split(a, [4, 5]))\n",
    "print(np.split(a, [4, 7]))"
   ]
  },
  {
   "cell_type": "markdown",
   "metadata": {},
   "source": [
    "**Resizing an Array**"
   ]
  },
  {
   "cell_type": "code",
   "execution_count": 25,
   "metadata": {},
   "outputs": [
    {
     "name": "stdout",
     "output_type": "stream",
     "text": [
      "[[1 2 3]\n",
      " [4 5 6]]\n",
      "(2, 3)\n",
      "6\n",
      "\n",
      "\n",
      "[[1 2 3 4 5]\n",
      " [6 1 2 3 4]\n",
      " [5 6 1 2 3]\n",
      " [4 5 6 1 2]]\n",
      "(4, 5)\n",
      "20\n"
     ]
    }
   ],
   "source": [
    "a = np.array([[1, 2, 3], [4, 5,6 ]])\n",
    "print(a)\n",
    "print(a.shape)\n",
    "print(a.size)\n",
    "print('\\n')\n",
    "b = np.resize(a, (4,5))\n",
    "print(b)\n",
    "print(b.shape)\n",
    "print(b.size)"
   ]
  },
  {
   "cell_type": "markdown",
   "metadata": {},
   "source": [
    "<!DOCTYPE html>\n",
    "<html lang=\"en\">\n",
    "<head>\n",
    "    <meta charset=\"UTF-8\">\n",
    "    <meta http-equiv=\"X-UA-Compatible\" content=\"IE=edge\">\n",
    "    <meta name=\"viewport\" content=\"width=device-width, initial-scale=1.0\">\n",
    "    <title>Document</title>\n",
    "    <style>\n",
    "        h3 {\n",
    "            color: aqua;\n",
    "        }\n",
    "    </style>\n",
    "</head>\n",
    "<body>\n",
    "    <h3>Histogram</h3>\n",
    "</body>\n",
    "</html>\n",
    "\n",
    "\n"
   ]
  },
  {
   "cell_type": "code",
   "execution_count": 26,
   "metadata": {},
   "outputs": [
    {
     "data": {
      "image/png": "[encoded data removed]",
      "text/plain": [
       "<Figure size 432x288 with 1 Axes>"
      ]
     },
     "metadata": {
      "needs_background": "light"
     },
     "output_type": "display_data"
    }
   ],
   "source": [
    "import matplotlib.pyplot as plt\n",
    "plt.style.use('ggplot')\n",
    "a = np.array([20, 87, 4, 40, 53, 74, 56, 51, 11, 20, 40, 15, 79, 25, 27])\n",
    "plt.hist(a, bins=[0, 20, 40, 60, 80, 100])\n",
    "plt.title(\"histogram\")\n",
    "plt.show()"
   ]
  },
  {
   "cell_type": "markdown",
   "metadata": {},
   "source": [
    "<style>\n",
    "    h3 {\n",
    "        color: aqua;\n",
    "        \n",
    "    }\n",
    "</style>\n",
    "<h3>Sine Graph</h3>"
   ]
  },
  {
   "cell_type": "code",
   "execution_count": 27,
   "metadata": {},
   "outputs": [
    {
     "data": {
      "image/png": "[encoded data removed]",
      "text/plain": [
       "<Figure size 500x300 with 1 Axes>"
      ]
     },
     "metadata": {
      "needs_background": "light"
     },
     "output_type": "display_data"
    }
   ],
   "source": [
    "x = np.arange(0, 3*np.pi, 0.1)\n",
    "plt.figure(figsize=(5,3), dpi=100)\n",
    "y = np.sin(x)\n",
    "plt.plot(x, y)\n",
    "plt.show()"
   ]
  },
  {
   "cell_type": "markdown",
   "metadata": {},
   "source": [
    "Create a 6 x 6 two-dimensional array, and let 1 and 0 be placed alternatively across the diagonals."
   ]
  },
  {
   "cell_type": "code",
   "execution_count": 28,
   "metadata": {},
   "outputs": [
    {
     "data": {
      "text/plain": [
       "array([[0, 1, 0, 1, 0, 1],\n",
       "       [1, 0, 1, 0, 1, 0],\n",
       "       [0, 1, 0, 1, 0, 1],\n",
       "       [1, 0, 1, 0, 1, 0],\n",
       "       [0, 1, 0, 1, 0, 1],\n",
       "       [1, 0, 1, 0, 1, 0]])"
      ]
     },
     "execution_count": 28,
     "metadata": {},
     "output_type": "execute_result"
    }
   ],
   "source": [
    "z = np.zeros((6, 6), dtype=int)\n",
    "z[1::2, ::2] = 1\n",
    "z[::2, 1::2] = 1\n",
    "z "
   ]
  },
  {
   "cell_type": "markdown",
   "metadata": {},
   "source": [
    "Finding the total number of missing values in an array"
   ]
  },
  {
   "cell_type": "code",
   "execution_count": 29,
   "metadata": {},
   "outputs": [
    {
     "name": "stdout",
     "output_type": "stream",
     "text": [
      "Total number of missing values: \n",
      " 5\n",
      "Indexes of missing values: \n",
      " [[0 5]\n",
      " [2 8]\n",
      " [5 5]\n",
      " [6 2]\n",
      " [8 9]]\n"
     ]
    }
   ],
   "source": [
    "z = np.random.rand(10, 10)\n",
    "z[np.random.randint(10, size=5), np.random.randint(10, size=5)] = np.nan\n",
    "print(\"Total number of missing values: \\n\", np.isnan(z).sum())\n",
    "print(\"Indexes of missing values: \\n\", np.argwhere(np.isnan(z)))\n",
    "\n",
    "inds = np.where(np.isnan(z))\n",
    "z[inds] = 0"
   ]
  },
  {
   "cell_type": "code",
   "execution_count": 30,
   "metadata": {},
   "outputs": [
    {
     "data": {
      "text/plain": [
       "array([[0, 1, 2],\n",
       "       [3, 4, 5]])"
      ]
     },
     "execution_count": 30,
     "metadata": {},
     "output_type": "execute_result"
    }
   ],
   "source": [
    "an = np.arange(6).reshape(2,3)\n",
    "ab = an[0,0]\n",
    "ab\n",
    "an"
   ]
  },
  {
   "cell_type": "code",
   "execution_count": null,
   "metadata": {},
   "outputs": [
    {
     "data": {
      "text/plain": [
       "array([[1, 1],\n",
       "       [1, 2]], dtype=int64)"
      ]
     },
     "execution_count": 88,
     "metadata": {},
     "output_type": "execute_result"
    }
   ],
   "source": [
    "np.argwhere(an[:, :]>3)"
   ]
  },
  {
   "cell_type": "markdown",
   "metadata": {},
   "source": [
    "<style>\n",
    "    h3{\n",
    "        color: aqua;\n",
    "    }\n",
    "</style>\n",
    "<h3>Other Numpy Functions</h3>"
   ]
  },
  {
   "cell_type": "code",
   "execution_count": 41,
   "metadata": {},
   "outputs": [
    {
     "name": "stdout",
     "output_type": "stream",
     "text": [
      "Array a:  [1. 3. 5.]\n",
      "Standard deviation of a: 1.632993161855452\n",
      "Square root of array a: [1.         1.73205081 2.23606798]\n",
      "log of array a:  [0.         0.47712125 0.69897   ]\n",
      "Sum of array a:  9.0\n",
      "Ravel:  [1. 3. 5.]\n"
     ]
    }
   ],
   "source": [
    "a = np.linspace(1,5, 3)\n",
    "\n",
    "print(\"Array a: \", a)\n",
    "print(f\"Standard deviation of a: {np.std(a)}\")\n",
    "print(f\"Square root of array a: {np.sqrt(a)}\")\n",
    "print(\"log of array a: \", np.log10(a))\n",
    "print(\"Sum of array a: \", np.sum(a))\n",
    "print(\"Ravel: \", np.ravel(a)) "
   ]
  },
  {
   "cell_type": "code",
   "execution_count": null,
   "metadata": {},
   "outputs": [],
   "source": []
  }
 ],
 "metadata": {
  "kernelspec": {
   "display_name": "Python 3.8.2 64-bit",
   "language": "python",
   "name": "python3"
  },
  "language_info": {
   "codemirror_mode": {
    "name": "ipython",
    "version": 3
   },
   "file_extension": ".py",
   "mimetype": "text/x-python",
   "name": "python",
   "nbconvert_exporter": "python",
   "pygments_lexer": "ipython3",
   "version": "3.8.2"
  },
  "vscode": {
   "interpreter": {
    "hash": "438727c8858bc46e257ba69863512eb04c8e9f5db9a1c7102296af502b4092eb"
   }
  }
 },
 "nbformat": 4,
 "nbformat_minor": 2
}
